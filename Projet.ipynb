{
 "cells": [
  {
   "cell_type": "markdown",
   "metadata": {},
   "source": [
    "# **<center>Recherche Opérationnelle<br /> Projet </center>**\n",
    "\n",
    "<center> RUDONI Antonin, SIMON Thomas, AMIRBEKYAN Alen, AFANVI Kodjo Roland </center>"
   ]
  },
  {
   "cell_type": "markdown",
   "metadata": {},
   "source": [
    "# **Introduction**\n",
    "L'Agence de l'Environnement et de la Maîtrise de l’Énergie (ADEME) a lancé un appel à manifestation d’intérêt pour promouvoir de nouvelles solutions de mobilité durable adaptées à différents territoires. Notre structure, CesiCDP, spécialiste en Mobilité Multimodale Intelligente, répondons à cet appel en s'appuyant nos études antérieures et notre expertise en technologies de transport économiques et écologiques.\n",
    "\n",
    "Notre objectif est de minimiser les déplacements et la consommation des véhicules lors des livraisons en résolvant un problème algorithmique classique : calculer une tournée optimale sur un réseau routier (VRP) reliant plusieurs villes et revenant au point de départ, tout en minimisant la durée totale. Cette solution est applicable à divers domaines tels que la distribution du courrier, la livraison de produits, et le ramassage des ordures, avec un impact environnemental significatif."
   ]
  },
  {
   "cell_type": "markdown",
   "metadata": {},
   "source": [
    "# **Périmètre**\n",
    "\n",
    "## **Besoins**\n",
    "Réduire les coûts de transport et les émissions de gaz à effet de serre en optimisant les itinéraires de livraison.\n",
    "\n",
    "## **Reformulation du problème**\n",
    "Le problème peut être défini comme suit : étant donné k camions et n villes, \n",
    "trouver l'itinéraire optimal pour chaque camion de manière à ce que la distance totale parcourue soit minimisée.\n",
    "\n",
    "## **Choix de modélisation** \n",
    "Pour modéliser ce problème, nous utilisons un graphe non orienté.\n",
    "\n",
    "### **Représentation Graphique**\n",
    "- Sommets : Les villes à visiter\n",
    "- Poids des arêtes : La distance entre deux villes\n",
    "- Arêtes : Les chemins possibles entre les villes\n",
    "\n",
    "### **Choix du type de données en entrée**\n",
    "\n",
    "Les données en entrée incluent :\n",
    "\n",
    "- La liste des villes à visiter\n",
    "- Les distances entre chaque paire de villes\n",
    "- La capacité des camions\n",
    "- Le nombre de camions disponibles"
   ]
  },
  {
   "cell_type": "markdown",
   "metadata": {},
   "source": [
    "# **Représentation Graphique** \n",
    "\n",
    "Graphe : \n",
    "- Sommets -> Villes \n",
    "- Poids des arêtes -> Distance entre 2 villes \n",
    "- Arêtes -> Chemin entre les villes \n",
    "\n",
    "\n",
    "\n",
    "#### **Exemple de représentation par un graphe de ville lié par des routes**\n",
    "<img src=\"graphe.png\" alt=\"Description de l'image\" style=\"width:50%;\"/>\n"
   ]
  },
  {
   "cell_type": "markdown",
   "metadata": {},
   "source": [
    "# **Complexité**\n",
    "\n",
    "## Definition du problème d'optimisation \n",
    "Le problème de la tournée de véhicules (VRP) consiste à trouver le parcours optimal pour $k$ camions afin de visiter $n$ villes, en minimisant la distance totale parcourue tout en assurant que chaque ville soit visitée exactement une fois.\n",
    "\n",
    "## Problème de décision associé \n",
    "Existe-t-il une solution pour $k$ camions visitant $n$ villes où la distance totale parcourue ne dépasse pas une valeur donnée ?\n",
    "\n",
    "## Démonstration VRP par rapport a cycle hamiltonienne\n",
    "Le VRP est une généralisation de TSP, qui est un problème classique en théorie de la complexité. TSP demande de trouver le plus court chemin passant par un ensemble de villes et revenant à la ville de départ. Il a été prouvé que le TSP est NP-complet en se basant sur le problème du cycle hamiltonien.\n",
    "\n",
    "## Réduction du TSP au VRP\n",
    "Transformation : On peut transformer n'importe quelle instance du TSP en une instance du VRP avec $k$ = 1. Si on peut résoudre VRP, on peut résoudre TSP en définissant un seul camion pour parcourir toutes les villes.\n",
    "Preuve de NP-complétude du VRP : Puisque le TSP est un cas particulier du VRP, et étant donné que le TSP est NP-complet, il s'ensuit que le VRP est au moins aussi difficile que le TSP. Par conséquent, le VRP est également NP-complet.\n",
    "\n",
    "## Appartenance à NP \n",
    "Pour montrer que le VRP appartient à NP, il suffit de vérifier qu'une solution donnée peut être vérifiée en temps polynomial.\n",
    "On peut en temps polynomial vérifier :\n",
    "\n",
    "Que chaque ville est visitée exactement une fois.\n",
    "Que la distance totale parcourue est calculée correctement et ne dépasse pas une valeur donnée.\n",
    "Ainsi, le VRP appartient à NP, et étant donné que le VRP est au moins aussi difficile que le TSP, nous concluons que le VRP est NP-difficile.\n",
    "\n",
    "## Démonstration \n",
    "\n",
    "### Réduction du problème du Cycle Hamiltonien au TSP\n",
    "\n",
    "Pour transformer une instance du problème du Cycle Hamiltonien \\(G = (V, E)\\) en une instance du problème du TSP :\n",
    "\n",
    "**Construction du graphe complet** :\n",
    "   - Création un graphe complet \\(G' = (V, E')\\), où chaque paire de nœuds est connectée par une arête.\n",
    "   - Le nombre de nœuds dans \\(G'\\) est le même que dans \\(G\\).\n",
    "\n",
    "**Ajout des arêtes et des coûts** :\n",
    "   - Ajout chaque nœud \\(v\\) à \\(V'\\) en \\(O(1)\\).\n",
    "   - Pour chaque paire de nœuds \\((u, v)\\), vérifier si \\((u, v)\\) est une arête dans \\(G\\). Cette vérification se fait en temps constant \\(O(1)\\).\n",
    "   - Ajout des coûts aux arêtes :\n",
    "     - Si \\((u, v)\\) est une arête dans \\(G\\), attribuer un coût de 1.\n",
    "     - Sinon, attribuer un coût très élevé (infini).\n",
    "\n",
    "**Complexité** :\n",
    "   - La transformation de \\(G\\) en \\(G'\\) se fait en \\(O($n^2$)\\), où \\(n\\) est le nombre de sommets, car chaque paire de nœuds est vérifiée et connectée.\n",
    "\n",
    "Ainsi, cette transformation garantit que le problème du Cycle Hamiltonien peut être converti en une instance du TSP en temps polynomial.\n"
   ]
  },
  {
   "cell_type": "markdown",
   "metadata": {},
   "source": [
    "## Algorithme de certificat de TSP"
   ]
  },
  {
   "cell_type": "code",
   "execution_count": 27,
   "metadata": {},
   "outputs": [
    {
     "name": "stdout",
     "output_type": "stream",
     "text": [
      "Vérification de la tournée: [0, 1, 3, 2, 0]\n",
      "True\n"
     ]
    }
   ],
   "source": [
    "from math import sqrt\n",
    "\n",
    "def calculate_distance(point1, point2):\n",
    "    return sqrt((point1[0] - point2[0]) ** 2 + (point1[1] - point2[1]) ** 2)\n",
    "\n",
    "def is_valid_tsp_solution(coordinates, tour):\n",
    "    num_cities = len(coordinates)\n",
    "    visited = [False] * num_cities\n",
    "\n",
    "    print(f\"Vérification de la tournée: {tour}\")\n",
    "\n",
    "    # Chaque tournée commence par le depot\n",
    "    if tour[0] != tour[-1]:\n",
    "        print(\"La tournée ne commence ou ne finit pas au même point.\")\n",
    "        return False\n",
    "\n",
    "    for i in range(len(tour) - 1):\n",
    "        from_city = tour[i]\n",
    "        to_city = tour[i + 1]\n",
    "\n",
    "        # Chaque ville doit être visitée exactement une fois\n",
    "        if visited[from_city]:\n",
    "            print(f\"La ville {from_city} est visitée plus d'une fois.\")\n",
    "            return False\n",
    "        \n",
    "        distance = calculate_distance(coordinates[from_city], coordinates[to_city])\n",
    "        \n",
    "        # Distance non nulle entre chaque paire de villes successives\n",
    "        if distance == 0 and from_city != to_city:\n",
    "            print(f\"Il n'y a pas de distance entre {from_city} et {to_city}.\")\n",
    "            return False\n",
    "\n",
    "        # Marque la ville comme visitée\n",
    "        visited[from_city] = True  \n",
    "\n",
    "    # Vérifie que toutes les villes ont été visitées exactement une fois\n",
    "    if not all(visited):\n",
    "        print(\"Toutes les villes n'ont pas été visitées.\")\n",
    "        return False\n",
    "\n",
    "    # Vérification de retour au depot\n",
    "    distance = calculate_distance(coordinates[tour[-2]], coordinates[tour[-1]])\n",
    "    if distance == 0 and tour[-2] != tour[-1]:\n",
    "        print(f\"Il n'y a pas de distance entre {tour[-2]} et {tour[-1]}.\")\n",
    "        return False\n",
    "\n",
    "    return True\n",
    "\n",
    "# Exemple\n",
    "coordinates = [\n",
    "    (0, 0),  # Dépôt\n",
    "    (1, 2),  \n",
    "    (4, 0), \n",
    "    # (3,3), \n",
    "    (6, 3)   \n",
    "]\n",
    "\n",
    "tour = [0, 1, 3, 2, 0]  \n",
    "\n",
    "print(is_valid_tsp_solution(coordinates, tour))\n"
   ]
  },
  {
   "cell_type": "markdown",
   "metadata": {},
   "source": [
    "## Pire des cas\n",
    "### Complexité asymptotique \n",
    "\n",
    "Dans le pire des cas, le nombre de solutions potentielles du VRP augmente de manière exponentielle avec le nombre de villes et de camions. \n",
    "Pour :\n",
    "\n",
    "- $n$ villes et $k$ camions, il existe O($k^n$) manières de répartir les villes entre les camions\n",
    "- Chaque répartition, il faut trouver l'itinéraire optimal pour chaque camion, ce qui est un problème de TSP pour chaque sous-ensemble de villes\n",
    "\n",
    "La complexité asymptotique du VRP est donc exprimée comme exponentielle en fonction du nombre de villes, rendant le problème impraticable pour de grandes instances.\n"
   ]
  },
  {
   "cell_type": "markdown",
   "metadata": {},
   "source": [
    "# **Modèle mathématique**\n",
    "\n",
    "$n$ : Le nombre total de villes à visiter</br>\n",
    "$k$ : Le nombre total de véhicules disponibles</br>\n",
    "$c_{ij}$ : Le coût est la distance pour aller de la ville $i$ à la ville $j$</br>\n",
    "$x_{ij}^k$ : Variables de décision, qui permet de savoir si $k$ emprunte l'arête $(i, j)$</br>\n",
    "$u_i$ : Variable continue représentant l'ordre de visite de la ville $i$.</br>\n",
    "\n",
    "$\\min \\sum\\limits_{k \\in K} \\sum\\limits_{i \\in N} \\sum\\limits_{j \\in N} c_{ij} x_{ij}^k$</br>\n",
    "\n",
    "## Contraintes :</br>\n",
    "\n",
    "Visite unique des villes : </br>\n",
    "\n",
    "$\\sum\\limits_{k \\in K} \\sum\\limits_{j \\in N} x_{ij}^k = 1 \\quad \\forall i \\in N, i \\neq 0$</br>\n",
    "\n",
    "Entrée puis sortie dans chaque ville :</br>\n",
    "\n",
    "$\\sum\\limits_{j \\in N} x_{ij}^k = \\sum\\limits_{j \\in N} x_{ji}^k \\quad \\forall k \\in K, \\forall i \\in N$</br>\n",
    "\n",
    "Chaque véhicule doit commencer et se terminer au dépôt :</br>\n",
    "\n",
    "$\\sum\\limits_{j \\in N} x_{0j}^k = 1 \\quad \\forall k \\in K$</br>\n",
    "$\\sum\\limits_{i \\in N} x_{i0}^k = 1 \\quad \\forall k \\in K$</br>\n",
    "\n",
    "Empêche la formation de sous-tours en utilisant les contraintes de Miller-Tucker-Zemlin (MTZ) :</br>\n",
    "\n",
    "$u_i - u_j + n x_{ij}^k \\leq n-1 \\quad \\forall i, j \\in N, i \\neq j, k \\in K$</br>\n",
    "$1 \\leq u_i \\leq n \\quad \\forall i \\in N, i \\neq 0$</br>\n",
    "\n",
    "Les variables de décision sont binaires :</br>\n",
    "\n",
    "\n",
    "$x_{ij}^k \\in \\{0, 1\\} \\quad \\forall i, j \\in N, k \\in K$</br>\n"
   ]
  },
  {
   "cell_type": "markdown",
   "metadata": {},
   "source": [
    "# **Choix et implémentation d'une heuristique**\n"
   ]
  },
  {
   "cell_type": "code",
   "execution_count": 6,
   "metadata": {},
   "outputs": [
    {
     "name": "stdout",
     "output_type": "stream",
     "text": [
      "247.38779056561043\n"
     ]
    },
    {
     "data": {
      "image/png": "[encoded data removed]",
      "text/plain": [
       "<Figure size 640x480 with 1 Axes>"
      ]
     },
     "metadata": {},
     "output_type": "display_data"
    }
   ],
   "source": [
    "import matplotlib.pyplot as plt\n",
    "from math import sqrt\n",
    "from random import random\n",
    "\n",
    "\n",
    "class Point:\n",
    "    def __init__(self, x, y):\n",
    "        self.x = x\n",
    "        self.y = y\n",
    "        self.voision = []\n",
    "\n",
    "    def arc(self, pointB, plt):\n",
    "        if self != pointB:\n",
    "            plt.plot((self.x, pointB.x), (self.y, pointB.y), marker = 'o')\n",
    "\n",
    "    def sommet(self, plt):\n",
    "        plt.plot(self.x, self.y,'o')\n",
    "    \n",
    "    def distance(self, pointB):\n",
    "        return sqrt((self.x - pointB.x)**2  + (self.y - pointB.y)**2)\n",
    "\n",
    "points = []\n",
    "\n",
    "for i in range(20):\n",
    "    points.append(Point(x=random()*30, y=random()*30))\n",
    "\n",
    "def tsp(depart, points, distanceTotal = 0, pointsparc = []):\n",
    "    pointsparc.append(depart)\n",
    "    if len(pointsparc) == len(points):\n",
    "        return (distanceTotal + pointsparc[-2].distance(depart), pointsparc)\n",
    "    \n",
    "    min = 1000000000000\n",
    "    voisin = None\n",
    "    for p in points:\n",
    "        if not p in pointsparc:\n",
    "            distance = depart.distance(p)\n",
    "            if distance < min:\n",
    "                min = distance\n",
    "                voisin = p\n",
    "    \n",
    "    return tsp(voisin, points, distanceTotal+distance, pointsparc)\n",
    "\n",
    "res = tsp(points[0], points)\n",
    "\n",
    "distance = res[0]\n",
    "\n",
    "for i in range(len(res[1])-1):\n",
    "    res[1][i].sommet(plt)\n",
    "    res[1][i].arc(res[1][i+1], plt)\n",
    "\n",
    "res[1][0].arc(res[1][-1], plt)\n",
    "\n",
    "print(distance)\n",
    "\n",
    "# for p in points:\n",
    "#     p.sommet(plt)\n",
    "#     points[5].arc(p, plt)\n",
    "\n",
    "plt.show()"
   ]
  },
  {
   "cell_type": "markdown",
   "metadata": {},
   "source": [
    "# **Références**\n",
    "1 : Malapert, A. (2006). Optimisation de tournées de véhicules pour l’exploitation de Réseau Telecom. Rapp. Stage Diplôme Master Intell. Artif. Décision Univ. Paris, 6.\n",
    "\n",
    "2 : Bederina, H. (2018). Problèmes de tournées de véhicules robustes multi-objectifs (Doctoral dissertation, Université de Picardie Jules Verne).\n",
    "\n",
    "3 : http://polymorphe.free.fr/cours/ia/tsp/these_chap_4(TSP).pdf \n",
    "\n",
    "4 : https://www.lri.fr/~jcohen/documents/enseignement/VoyageurDeCommerce.pdf"
   ]
  },
  {
   "cell_type": "markdown",
   "metadata": {},
   "source": [
    "## Data sets: Données générées aléatoirement et données réelles choisies de Google Maps\n",
    "\n",
    "- Génération de données aléatoires  (Alen)\n",
    "\n",
    "- Génération de données à partir de la carte \n",
    "\n"
   ]
  },
  {
   "cell_type": "code",
   "execution_count": 29,
   "metadata": {},
   "outputs": [
    {
     "name": "stderr",
     "output_type": "stream",
     "text": [
      "/var/folders/2c/1mx6slb13kd32blvc0xj6n5r0000gn/T/ipykernel_1365/3798061446.py:36: FutureWarning: Series.__getitem__ treating keys as positions is deprecated. In a future version, integer keys will always be treated as labels (consistent with DataFrame behavior). To access a value by position, use `ser.iloc[pos]`\n",
      "  plt.text(df[\"X\"][i], df[\"Y\"][i], city, fontsize=12)\n"
     ]
    },
    {
     "data": {
      "image/png": "[encoded data removed]",
      "text/plain": [
       "<Figure size 1000x600 with 1 Axes>"
      ]
     },
     "metadata": {},
     "output_type": "display_data"
    }
   ],
   "source": [
    "from geopy.geocoders import Nominatim\n",
    "import pandas as pd\n",
    "import math\n",
    "import matplotlib.pyplot as plt\n",
    "\n",
    "geolocator = Nominatim(user_agent=\"vrp_project\")\n",
    "\n",
    "def get_coordinates(city_name):\n",
    "    location = geolocator.geocode(city_name + \", France\")\n",
    "    return (location.latitude, location.longitude) if location else (None, None)\n",
    "\n",
    "depot = \"Paris\"\n",
    "depot_coordinates = get_coordinates(depot)\n",
    "\n",
    "cities = [\"Lyon\", \"Marseille\", \"Toulouse\", \"Nice\", \"Hussigny-Godbrange\", \"Nancy\"]\n",
    "coordinates = [get_coordinates(city) for city in cities]\n",
    "\n",
    "coordinates.insert(0, depot_coordinates)\n",
    "cities.insert(0, depot)\n",
    "\n",
    "df = pd.DataFrame(coordinates, columns=[\"Latitude\", \"Longitude\"], index=cities)\n",
    "\n",
    "def latlon_to_xy(lat, lon):\n",
    "    R = 6371  # Rayon de la Terre en km\n",
    "    x = R * math.radians(lon)\n",
    "    y = R * math.log(math.tan(math.pi/4 + math.radians(lat)/2))\n",
    "    return (x, y)\n",
    "\n",
    "df[\"X\"], df[\"Y\"] = zip(*df.apply(lambda row: latlon_to_xy(row[\"Latitude\"], row[\"Longitude\"]), axis=1))\n",
    "\n",
    "def plot_cities(df):\n",
    "    plt.figure(figsize=(10, 6))\n",
    "    plt.scatter(df[\"X\"], df[\"Y\"], color='red')\n",
    "\n",
    "    for i, city in enumerate(df.index):\n",
    "        plt.text(df[\"X\"][i], df[\"Y\"][i], city, fontsize=12)\n",
    "    \n",
    "    plt.title(\"Carte des villes avec coordonnées (x, y)\")\n",
    "    plt.xlabel(\"X (km)\")\n",
    "    plt.ylabel(\"Y (km)\")\n",
    "    plt.grid(True)\n",
    "    plt.show()\n",
    "\n",
    "plot_cities(df)\n"
   ]
  },
  {
   "cell_type": "markdown",
   "metadata": {},
   "source": [
    "## Solveur"
   ]
  },
  {
   "cell_type": "code",
   "execution_count": 8,
   "metadata": {},
   "outputs": [],
   "source": [
    "# py"
   ]
  },
  {
   "cell_type": "markdown",
   "metadata": {},
   "source": [
    "## Plan d'expérience"
   ]
  },
  {
   "cell_type": "markdown",
   "metadata": {},
   "source": [
    "### Instances faciles"
   ]
  },
  {
   "cell_type": "markdown",
   "metadata": {},
   "source": [
    "### Instances moyennes"
   ]
  },
  {
   "cell_type": "markdown",
   "metadata": {},
   "source": [
    "### Instances difficiles"
   ]
  },
  {
   "cell_type": "markdown",
   "metadata": {},
   "source": [
    "## Études expérimentales et analyse du solveur"
   ]
  },
  {
   "cell_type": "markdown",
   "metadata": {},
   "source": [
    "## Conclusion \n",
    "\n",
    "### Rés + ccl \n",
    "\n",
    "###  Perspectives d'amélioration"
   ]
  }
 ],
 "metadata": {
  "kernelspec": {
   "display_name": "Python 3 (ipykernel)",
   "language": "python",
   "name": "python3"
  },
  "language_info": {
   "codemirror_mode": {
    "name": "ipython",
    "version": 3
   },
   "file_extension": ".py",
   "mimetype": "text/x-python",
   "name": "python",
   "nbconvert_exporter": "python",
   "pygments_lexer": "ipython3",
   "version": "3.12.0"
  },
  "toc": {
   "base_numbering": 1,
   "nav_menu": {},
   "number_sections": false,
   "sideBar": true,
   "skip_h1_title": false,
   "title_cell": "Table of Contents",
   "title_sidebar": "Contents",
   "toc_cell": false,
   "toc_position": {
    "height": "calc(100% - 180px)",
    "left": "10px",
    "top": "150px",
    "width": "380px"
   },
   "toc_section_display": true,
   "toc_window_display": true
  },
  "varInspector": {
   "cols": {
    "lenName": 16,
    "lenType": 16,
    "lenVar": 40
   },
   "kernels_config": {
    "python": {
     "delete_cmd_postfix": "",
     "delete_cmd_prefix": "del ",
     "library": "var_list.py",
     "varRefreshCmd": "print(var_dic_list())"
    },
    "r": {
     "delete_cmd_postfix": ") ",
     "delete_cmd_prefix": "rm(",
     "library": "var_list.r",
     "varRefreshCmd": "cat(var_dic_list()) "
    }
   },
   "types_to_exclude": [
    "module",
    "function",
    "builtin_function_or_method",
    "instance",
    "_Feature"
   ],
   "window_display": false
  }
 },
 "nbformat": 4,
 "nbformat_minor": 4
}
