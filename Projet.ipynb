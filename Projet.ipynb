{
 "cells": [
  {
   "cell_type": "markdown",
   "metadata": {},
   "source": [
    "# **<center>Recherche Opérationnelle<br /> Projet </center>**\n",
    "\n",
    "<center> RUDONI Antonin, SIMON Thomas, AMIRBEKYAN Alen, AFANVI Kodjo Roland </center>"
   ]
  },
  {
   "cell_type": "markdown",
   "metadata": {},
   "source": [
    "# **Introduction**\n",
    "L'Agence de l'Environnement et de la Maîtrise de l’Énergie (ADEME) a lancé un appel à manifestation d’intérêt pour promouvoir de nouvelles solutions de mobilité durable adaptées à différents territoires. Notre structure, CesiCDP, spécialiste en Mobilité Multimodale Intelligente, répondons à cet appel en s'appuyant nos études antérieures et notre expertise en technologies de transport économiques et écologiques.\n",
    "\n",
    "Notre objectif est de minimiser les déplacements et la consommation des véhicules lors des livraisons en résolvant un problème algorithmique classique : calculer une tournée optimale sur un réseau routier (VRP) reliant plusieurs villes et revenant au point de départ, tout en minimisant la durée totale. Cette solution est applicable à divers domaines tels que la distribution du courrier, la livraison de produits, et le ramassage des ordures, avec un impact environnemental significatif."
   ]
  },
  {
   "cell_type": "markdown",
   "metadata": {},
   "source": [
    "# **Périmètre**\n",
    "\n",
    "## **Besoins**\n",
    "Réduire les coûts de transport et les émissions de gaz à effet de serre en optimisant les itinéraires de livraison.\n",
    "\n",
    "## **Reformulation du problème**\n",
    "Le problème peut être défini comme suit : étant donné k camions et n villes, \n",
    "trouver l'itinéraire optimal pour chaque camion de manière à ce que la distance totale parcourue soit minimisée.\n",
    "\n",
    "## **Choix de modélisation** \n",
    "Pour modéliser ce problème, nous utilisons un graphe non orienté.\n",
    "\n",
    "### **Représentation Graphique**\n",
    "- Sommets : Les villes à visiter\n",
    "- Poids des arêtes : La distance entre deux villes\n",
    "- Arêtes : Les chemins possibles entre les villes\n",
    "\n",
    "### **Choix du type de données en entrée**\n",
    "\n",
    "Les données en entrée incluent :\n",
    "\n",
    "- La liste des villes à visiter\n",
    "- Les distances entre chaque paire de villes\n",
    "- La capacité des camions\n",
    "- Le nombre de camions disponibles"
   ]
  },
  {
   "cell_type": "markdown",
   "metadata": {},
   "source": [
    "# **Représentation Graphique** \n",
    "\n",
    "Graphe : \n",
    "- Sommets -> Villes \n",
    "- Poids des arêtes -> Distance entre 2 villes \n",
    "- Arêtes -> Chemin entre les villes \n",
    "\n",
    "\n",
    "\n",
    "#### **Exemple de représentation par un graphe de ville lié par des routes**\n",
    "<img src=\"graphe.png\" alt=\"Description de l'image\" style=\"width:50%;\"/>\n"
   ]
  },
  {
   "cell_type": "markdown",
   "metadata": {},
   "source": [
    "# **Complexité**\n",
    "\n",
    "## Definition du problème d'optimisation \n",
    "Le problème de la tournée de véhicules (VRP) consiste à trouver le parcours optimal pour k camions afin de visiter n villes, en minimisant la distance totale parcourue tout en respectant les contraintes de capacité des camions et en assurant que chaque ville soit visitée exactement une fois.\n",
    "\n",
    "## Problème de décision associé \n",
    "Existe-t-il une solution pour k camions visitant n villes où la distance totale parcourue ne dépasse pas une valeur donnée ?\n",
    "\n",
    "## Démonstration VRP par rapport a cycle hamiltonienne\n",
    "Le VRP est une généralisation de(TSP), qui est un problème classique en théorie de la complexité. TSP demande de trouver le plus court chemin passant par un ensemble de villes et revenant à la ville de départ. Il a été prouvé que le TSP est NP-complet en se basant sur le problème du cycle hamiltonien.\n",
    "\n",
    "## Réduction du TSP au VRP\n",
    "Transformation : On peut transformer n'importe quelle instance du TSP en une instance du VRP avec k = 1. Si on peut résoudre VRP, on peut résoudre TSP en définissant un seul camion pour parcourir toutes les villes.\n",
    "Preuve de NP-complétude du VRP : Puisque le TSP est un cas particulier du VRP, et étant donné que le TSP est NP-complet, il s'ensuit que le VRP est au moins aussi difficile que le TSP. Par conséquent, le VRP est également NP-complet.\n",
    "\n",
    "## Appartenance à NP \n",
    "Pour montrer que le VRP appartient à NP, il suffit de vérifier qu'une solution donnée peut être vérifiée en temps polynomial.\n",
    "On peut en temps polynomial vérifier :\n",
    "\n",
    "Que chaque ville est visitée exactement une fois.\n",
    "Que chaque tournée respecte les contraintes de capacité.\n",
    "Que la distance totale parcourue est calculée correctement et ne dépasse pas une valeur donnée.\n",
    "Ainsi, le VRP appartient à NP, et étant donné que le VRP est au moins aussi difficile que le TSP, nous concluons que le VRP est NP-difficile.\n",
    "\n",
    "\n",
    "## Pire des cas\n",
    "### Complexité asymptotique \n",
    "\n",
    "Dans le pire des cas, le nombre de solutions potentielles du VRP augmente de manière exponentielle avec le nombre de villes et de camions. \n",
    "Pour :\n",
    "\n",
    "- n villes et k camions, il existe O(k^n) manières de répartir les villes entre les camions\n",
    "- Chaque répartition, il faut trouver l'itinéraire optimal pour chaque camion, ce qui est un problème de TSP pour chaque sous-ensemble de villes\n",
    "\n",
    "La complexité asymptotique du VRP est donc exprimée comme exponentielle en fonction du nombre de villes, rendant le problème impraticable pour de grandes instances.\n"
   ]
  },
  {
   "cell_type": "markdown",
   "metadata": {},
   "source": [
    "# **Modèle mathématique**\n",
    "\n",
    "Le VRP peut être formulé mathématiquement de cette manière [1]\n",
    "\n",
    "<img src=\"modèle_math.png\" alt=\"Description de l'image\" style=\"width:50%;\"/>"
   ]
  },
  {
   "cell_type": "markdown",
   "metadata": {},
   "source": [
    "- 3.7 chaque ville doit être visité une seule fois \n",
    "- 3.6 Chaque camion commence au même point de départ \n",
    "- 3.8 / 3.9 assure que le camion entre et sort une seule fois par sommet \n",
    "- 3.10 contrainte d'élimination des sous-tours (optionnel) -> eviter les sous-tours\n"
   ]
  },
  {
   "cell_type": "markdown",
   "metadata": {},
   "source": [
    "# **Choix et implémentation d'une heuristique**\n"
   ]
  },
  {
   "cell_type": "code",
   "execution_count": 1,
   "metadata": {},
   "outputs": [
    {
     "name": "stdout",
     "output_type": "stream",
     "text": [
      "46.248077692850245\n"
     ]
    },
    {
     "data": {
      "image/png": "[encoded data removed]",
      "text/plain": [
       "<Figure size 640x480 with 1 Axes>"
      ]
     },
     "metadata": {},
     "output_type": "display_data"
    }
   ],
   "source": [
    "import matplotlib.pyplot as plt\n",
    "from math import sqrt\n",
    "from random import random\n",
    "\n",
    "\n",
    "class Point:\n",
    "    def __init__(self, x, y):\n",
    "        self.x = x\n",
    "        self.y = y\n",
    "        self.voision = []\n",
    "\n",
    "    def arc(self, pointB, plt):\n",
    "        if self != pointB:\n",
    "            plt.plot((self.x, pointB.x), (self.y, pointB.y), marker = 'o')\n",
    "\n",
    "    def sommet(self, plt):\n",
    "        plt.plot(self.x, self.y,'o')\n",
    "    \n",
    "    def distance(self, pointB):\n",
    "        return sqrt((self.x - pointB.x)**2  + (self.y - pointB.y)**2)\n",
    "\n",
    "points = []\n",
    "\n",
    "for i in range(10):\n",
    "    points.append(Point(x=random()*10, y=random()*10))\n",
    "\n",
    "def tsp(depart, points, distanceTotal = 0, pointsparc = []):\n",
    "    pointsparc.append(depart)\n",
    "    if len(pointsparc) == 10:\n",
    "        return (distanceTotal + pointsparc[-2].distance(depart), pointsparc)\n",
    "    \n",
    "    min = 1000000000000\n",
    "    voisin = None\n",
    "    for p in points:\n",
    "        if not p in pointsparc:\n",
    "            distance = depart.distance(p)\n",
    "            if distance < min:\n",
    "                min = distance\n",
    "                voisin = p\n",
    "    \n",
    "    return tsp(voisin, points, distanceTotal+distance, pointsparc)\n",
    "\n",
    "res = tsp(points[0], points)\n",
    "\n",
    "distance = res[0]\n",
    "\n",
    "for i in range(len(res[1])-1):\n",
    "    res[1][i].sommet(plt)\n",
    "    res[1][i].arc(res[1][i+1], plt)\n",
    "\n",
    "res[1][0].arc(res[1][-1], plt)\n",
    "\n",
    "print(distance)\n",
    "\n",
    "# for p in points:\n",
    "#     p.sommet(plt)\n",
    "#     points[5].arc(p, plt)\n",
    "\n",
    "plt.show()"
   ]
  },
  {
   "cell_type": "markdown",
   "metadata": {},
   "source": [
    "# **Références**\n",
    "1 : Malapert, A. (2006). Optimisation de tournées de véhicules pour l’exploitation de Réseau Telecom. Rapp. Stage Diplôme Master Intell. Artif. Décision Univ. Paris, 6.\n",
    "\n",
    "2 : Bederina, H. (2018). Problèmes de tournées de véhicules robustes multi-objectifs (Doctoral dissertation, Université de Picardie Jules Verne).\n",
    "\n",
    "3 : http://polymorphe.free.fr/cours/ia/tsp/these_chap_4(TSP).pdf \n",
    "\n",
    "4 : https://www.lri.fr/~jcohen/documents/enseignement/VoyageurDeCommerce.pdf"
   ]
  }
 ],
 "metadata": {
  "kernelspec": {
   "display_name": "Python 3 (ipykernel)",
   "language": "python",
   "name": "python3"
  },
  "language_info": {
   "codemirror_mode": {
    "name": "ipython",
    "version": 3
   },
   "file_extension": ".py",
   "mimetype": "text/x-python",
   "name": "python",
   "nbconvert_exporter": "python",
   "pygments_lexer": "ipython3",
   "version": "3.11.7"
  },
  "toc": {
   "base_numbering": 1,
   "nav_menu": {},
   "number_sections": false,
   "sideBar": true,
   "skip_h1_title": false,
   "title_cell": "Table of Contents",
   "title_sidebar": "Contents",
   "toc_cell": false,
   "toc_position": {
    "height": "calc(100% - 180px)",
    "left": "10px",
    "top": "150px",
    "width": "380px"
   },
   "toc_section_display": true,
   "toc_window_display": true
  },
  "varInspector": {
   "cols": {
    "lenName": 16,
    "lenType": 16,
    "lenVar": 40
   },
   "kernels_config": {
    "python": {
     "delete_cmd_postfix": "",
     "delete_cmd_prefix": "del ",
     "library": "var_list.py",
     "varRefreshCmd": "print(var_dic_list())"
    },
    "r": {
     "delete_cmd_postfix": ") ",
     "delete_cmd_prefix": "rm(",
     "library": "var_list.r",
     "varRefreshCmd": "cat(var_dic_list()) "
    }
   },
   "types_to_exclude": [
    "module",
    "function",
    "builtin_function_or_method",
    "instance",
    "_Feature"
   ],
   "window_display": false
  }
 },
 "nbformat": 4,
 "nbformat_minor": 4
}
