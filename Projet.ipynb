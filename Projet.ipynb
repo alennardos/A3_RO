{
 "cells": [
  {
   "cell_type": "markdown",
   "metadata": {},
   "source": [
    "# **<center>Recherche Opérationnelle<br /> Projet </center>**\n",
    "\n",
    "<center> RUDONI Antonin, SIMON Thomas, AMIRBEKYAN Alen, AFANVI Kodjo Roland </center>"
   ]
  },
  {
   "cell_type": "markdown",
   "metadata": {},
   "source": [
    "# **Introduction**\n",
    "La recherche opérationnelle vise à fournir des méthodes efficaces pour résoudre des problèmes complexes de gestion et de logistique. Ce projet se concentre sur l'optimisation des tournées de véhicules (VRP - Vehicle Routing Problem) afin de minimiser la distance totale parcourue par une flotte de camions pour visiter un ensemble de villes."
   ]
  },
  {
   "cell_type": "markdown",
   "metadata": {},
   "source": [
    "# **Périmètre**\n",
    "\n",
    "## **Besoins**\n",
    "Réduire les coûts de transport et les émissions de gaz à effet de serre en optimisant les itinéraires de livraison.\n",
    "\n",
    "## **Reformulation du problème**\n",
    "Le problème peut être défini comme suit : étant donné k camions et n villes, \n",
    "trouver l'itinéraire optimal pour chaque camion de manière à ce que la distance totale parcourue soit minimisée.\n",
    "\n",
    "## **Choix de modélisation** \n",
    "Pour modéliser ce problème, nous utilisons un graphe non orienté.\n",
    "\n",
    "### **Représentation Graphique**\n",
    "- Sommets : Les villes à visiter\n",
    "- Poids des arêtes : La distance entre deux villes\n",
    "- Arêtes : Les chemins possibles entre les villes\n",
    "\n",
    "### **Choix du type de données en entrée**\n",
    "\n",
    "Les données en entrée incluent :\n",
    "\n",
    "- La liste des villes à visiter\n",
    "- Les distances entre chaque paire de villes\n",
    "- La capacité des camions\n",
    "- Le nombre de camions disponibles"
   ]
  },
  {
   "cell_type": "markdown",
   "metadata": {},
   "source": [
    "# **Représentation Graphique** \n",
    "\n",
    "Graphe : \n",
    "- Sommets -> Villes \n",
    "- Poids des arêtes -> Distance entre 2 villes \n",
    "- Arêtes -> Chemin entre les villes \n",
    "\n",
    "\n",
    "\n",
    "#### **Exemple de représentation par un graphe de ville lié par des routes**\n",
    "<img src=\"graphe.png\" alt=\"Description de l'image\" style=\"width:50%;\"/>\n",
    "\n",
    "\n",
    "Pour faciliter la lecture des graphes nous allons utilisés les matrices\n",
    "[1, 2, 3],\n",
    "[4, 5, 6],\n",
    "[7, 8, 9],\n",
    "[]\n",
    "\n"
   ]
  },
  {
   "cell_type": "markdown",
   "metadata": {},
   "source": [
    "# **Complexité**\n",
    "\n",
    "Le problème de la tournée de véhicules est un problème d'optimisation combinatoire connu pour être NP-difficile. Cela signifie qu'il n'existe pas d'algorithme polynomial pour le résoudre dans le pire des cas.\n",
    "\n",
    "## Justification de son appartenance à NP-difficile\n",
    "Le VRP est une généralisation du problème du voyageur de commerce (TSP), qui est un problème NP-complet. En ajoutant la contrainte des multiples véhicules, le VRP hérite de la complexité du TSP et est donc également NP-difficile.\n",
    "\n",
    "## Pire des cas\n",
    "????"
   ]
  },
  {
   "cell_type": "markdown",
   "metadata": {},
   "source": [
    "# **Modèle mathématique**\n",
    "\n",
    "Le VRP peut être formulé mathématiquement de cette manière\n",
    "\n",
    "<img src=\"modèle_maths.png\" alt=\"Description de l'image\" style=\"width:50%;\"/>"
   ]
  },
  {
   "cell_type": "markdown",
   "metadata": {},
   "source": [
    "# **Choix et implémentation d'une heuristique**\n"
   ]
  },
  {
   "cell_type": "markdown",
   "metadata": {},
   "source": [
    "# **Références**\n",
    "https://webusers.i3s.unice.fr/~malapert/publications/malapert-06-FT.pdf"
   ]
  },
  {
   "cell_type": "code",
   "execution_count": null,
   "metadata": {},
   "outputs": [],
   "source": []
  }
 ],
 "metadata": {
  "kernelspec": {
   "display_name": "Python 3 (ipykernel)",
   "language": "python",
   "name": "python3"
  },
  "language_info": {
   "codemirror_mode": {
    "name": "ipython",
    "version": 3
   },
   "file_extension": ".py",
   "mimetype": "text/x-python",
   "name": "python",
   "nbconvert_exporter": "python",
   "pygments_lexer": "ipython3",
   "version": "3.11.7"
  },
  "toc": {
   "base_numbering": 1,
   "nav_menu": {},
   "number_sections": false,
   "sideBar": true,
   "skip_h1_title": false,
   "title_cell": "Table of Contents",
   "title_sidebar": "Contents",
   "toc_cell": false,
   "toc_position": {
    "height": "calc(100% - 180px)",
    "left": "10px",
    "top": "150px",
    "width": "380px"
   },
   "toc_section_display": true,
   "toc_window_display": true
  },
  "varInspector": {
   "cols": {
    "lenName": 16,
    "lenType": 16,
    "lenVar": 40
   },
   "kernels_config": {
    "python": {
     "delete_cmd_postfix": "",
     "delete_cmd_prefix": "del ",
     "library": "var_list.py",
     "varRefreshCmd": "print(var_dic_list())"
    },
    "r": {
     "delete_cmd_postfix": ") ",
     "delete_cmd_prefix": "rm(",
     "library": "var_list.r",
     "varRefreshCmd": "cat(var_dic_list()) "
    }
   },
   "types_to_exclude": [
    "module",
    "function",
    "builtin_function_or_method",
    "instance",
    "_Feature"
   ],
   "window_display": false
  }
 },
 "nbformat": 4,
 "nbformat_minor": 4
}
